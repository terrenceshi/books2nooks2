{
 "cells": [
  {
   "cell_type": "code",
   "execution_count": 4,
   "id": "a93a258a",
   "metadata": {},
   "outputs": [],
   "source": [
    "import numpy as np\n",
    "import pandas as pd\n",
    "import torch\n",
    "import csv"
   ]
  },
  {
   "cell_type": "code",
   "execution_count": 5,
   "id": "515bd3b7",
   "metadata": {},
   "outputs": [],
   "source": [
    "# load model\n",
    "H = torch.load(\"H_rank100.pt\",map_location=torch.device('cpu'))\n",
    "W = torch.load(\"W_rank100.pt\",map_location=torch.device('cpu'))"
   ]
  },
  {
   "cell_type": "code",
   "execution_count": 6,
   "id": "84a55922",
   "metadata": {},
   "outputs": [
    {
     "ename": "NameError",
     "evalue": "name 'music_ix_fname' is not defined",
     "output_type": "error",
     "traceback": [
      "\u001b[1;31m---------------------------------------------------------------------------\u001b[0m",
      "\u001b[1;31mNameError\u001b[0m                                 Traceback (most recent call last)",
      "Input \u001b[1;32mIn [6]\u001b[0m, in \u001b[0;36m<cell line: 2>\u001b[1;34m()\u001b[0m\n\u001b[0;32m      1\u001b[0m \u001b[38;5;66;03m# load book/music indices\u001b[39;00m\n\u001b[1;32m----> 2\u001b[0m music_ix \u001b[38;5;241m=\u001b[39m pd\u001b[38;5;241m.\u001b[39mread_csv(\u001b[43mmusic_ix_fname\u001b[49m, header\u001b[38;5;241m=\u001b[39m\u001b[38;5;28;01mNone\u001b[39;00m)\n\u001b[0;32m      3\u001b[0m books_ix \u001b[38;5;241m=\u001b[39m pd\u001b[38;5;241m.\u001b[39mread_csv(books_ix_fname, header\u001b[38;5;241m=\u001b[39m\u001b[38;5;28;01mNone\u001b[39;00m)\n",
      "\u001b[1;31mNameError\u001b[0m: name 'music_ix_fname' is not defined"
     ]
    }
   ],
   "source": [
    "# load book/music indices\n",
    "music_ix = pd.read_csv(\"music_ix.csv\", header=None)\n",
    "books_ix = pd.read_csv(\"books_ix.csv\", header=None)"
   ]
  },
  {
   "cell_type": "code",
   "execution_count": null,
   "id": "37cd53a2",
   "metadata": {},
   "outputs": [],
   "source": [
    "def createRow(idx):\n",
    "    #query_ix = books_ix.index[books_ix[0] == query].values[0]\n",
    "    #maybe query_ix literally is just idx?\n",
    "    \n",
    "    song_scores = (W[query_ix] @ H.T)\n",
    "    top_song_ix = np.argsort(song_scores.detach().numpy())[::-1][:top_n]\n",
    "\n",
    "    music_df = pd.read_csv(musicfname, skiprows = lambda x: x not in np.sort(top_song_ix)+1, header=None)\n",
    "    music_df.columns = [\"title\", 'uri']\n",
    "    music_df['score'] = song_scores.detach().numpy()[np.sort(top_song_ix)]\n",
    "\n",
    "    print(\"found genres\")\n",
    "    print(music_df['tag'].value_counts().index.values)\n",
    "\n",
    "\n",
    "    for genre in music_df['tag'].value_counts().index.values:\n",
    "        if genre != 'misc': # avoid misc category, they are not songs.\n",
    "            print(genre)\n",
    "            playlist_df = music_df[music_df['tag'] == genre].sort_values('score',ascending=False)[:playlist_size]\n",
    "            print(playlist_df)\n",
    "            print()\n",
    "            if len(playlist_df) >= playlist_size and genre:\n",
    "                #playlist_df.to_csv(f'saved_playlists/{query_ix}_{genre}_playlist_{playlist_size}.csv')\n",
    "                print(playlist_df.head())"
   ]
  },
  {
   "cell_type": "code",
   "execution_count": 1,
   "id": "2a5a9ef2",
   "metadata": {},
   "outputs": [
    {
     "ename": "NameError",
     "evalue": "name 'createRow' is not defined",
     "output_type": "error",
     "traceback": [
      "\u001b[1;31m---------------------------------------------------------------------------\u001b[0m",
      "\u001b[1;31mNameError\u001b[0m                                 Traceback (most recent call last)",
      "Input \u001b[1;32mIn [1]\u001b[0m, in \u001b[0;36m<cell line: 1>\u001b[1;34m()\u001b[0m\n\u001b[1;32m----> 1\u001b[0m \u001b[43mcreateRow\u001b[49m(\u001b[38;5;241m0\u001b[39m)\n",
      "\u001b[1;31mNameError\u001b[0m: name 'createRow' is not defined"
     ]
    }
   ],
   "source": [
    "createRow(0)"
   ]
  },
  {
   "cell_type": "code",
   "execution_count": null,
   "id": "c7ae3387",
   "metadata": {},
   "outputs": [],
   "source": [
    "with open('matrix.csv', 'w', newline='') as csvfile:\n",
    "    csvwriter = csv.writer(csvfile)\n",
    "    \n",
    "    # csvwriter.writerows(rows) # can write one row (lst) or multiple rows (lst of lsts)"
   ]
  }
 ],
 "metadata": {
  "kernelspec": {
   "display_name": "Python 3 (ipykernel)",
   "language": "python",
   "name": "python3"
  },
  "language_info": {
   "codemirror_mode": {
    "name": "ipython",
    "version": 3
   },
   "file_extension": ".py",
   "mimetype": "text/x-python",
   "name": "python",
   "nbconvert_exporter": "python",
   "pygments_lexer": "ipython3",
   "version": "3.9.12"
  }
 },
 "nbformat": 4,
 "nbformat_minor": 5
}
