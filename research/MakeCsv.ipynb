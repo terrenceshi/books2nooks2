{
 "cells": [
  {
   "cell_type": "code",
   "execution_count": 74,
   "id": "582bf370",
   "metadata": {},
   "outputs": [],
   "source": [
    "import numpy as np\n",
    "import pandas as pd\n",
    "import torch\n",
    "import json"
   ]
  },
  {
   "cell_type": "code",
   "execution_count": 75,
   "id": "68bc261e",
   "metadata": {},
   "outputs": [],
   "source": [
    "# load model\n",
    "H = torch.load(\"H_rank100.pt\",map_location=torch.device('cpu'))\n",
    "W = torch.load(\"W_rank100.pt\",map_location=torch.device('cpu'))"
   ]
  },
  {
   "cell_type": "code",
   "execution_count": 106,
   "id": "bba12bfc",
   "metadata": {},
   "outputs": [],
   "source": [
    "# load book/music indices\n",
    "books_ix = pd.read_csv(\"books_ix.csv\", header=None)\n",
    "books_ix = books_ix.drop_duplicates()\n",
    "music_meta = pd.read_csv(\"combinedMusicData_small.csv\", header=None)[[0, 1, 5]]"
   ]
  },
  {
   "cell_type": "code",
   "execution_count": 107,
   "id": "f2bb7b6b",
   "metadata": {},
   "outputs": [
    {
     "data": {
      "text/html": [
       "<div>\n",
       "<style scoped>\n",
       "    .dataframe tbody tr th:only-of-type {\n",
       "        vertical-align: middle;\n",
       "    }\n",
       "\n",
       "    .dataframe tbody tr th {\n",
       "        vertical-align: top;\n",
       "    }\n",
       "\n",
       "    .dataframe thead th {\n",
       "        text-align: right;\n",
       "    }\n",
       "</style>\n",
       "<table border=\"1\" class=\"dataframe\">\n",
       "  <thead>\n",
       "    <tr style=\"text-align: right;\">\n",
       "      <th></th>\n",
       "      <th>title</th>\n",
       "      <th>tag</th>\n",
       "      <th>uri</th>\n",
       "    </tr>\n",
       "  </thead>\n",
       "  <tbody>\n",
       "    <tr>\n",
       "      <th>0</th>\n",
       "      <td>Can I Live</td>\n",
       "      <td>rap</td>\n",
       "      <td>spotify:track:20U1I32q6kX0Nmy4u8CvUg</td>\n",
       "    </tr>\n",
       "    <tr>\n",
       "      <th>1</th>\n",
       "      <td>Forgive Me Father</td>\n",
       "      <td>rap</td>\n",
       "      <td>spotify:track:1cvzmIBhdaQdC1DBbFnpWB</td>\n",
       "    </tr>\n",
       "    <tr>\n",
       "      <th>2</th>\n",
       "      <td>Down and Out</td>\n",
       "      <td>rap</td>\n",
       "      <td>spotify:track:5mEwhCsqadBZIE7SSrv1gC</td>\n",
       "    </tr>\n",
       "    <tr>\n",
       "      <th>3</th>\n",
       "      <td>Fly In</td>\n",
       "      <td>rap</td>\n",
       "      <td>spotify:track:6Nr3QjImPUhCpUgnykO7hm</td>\n",
       "    </tr>\n",
       "    <tr>\n",
       "      <th>4</th>\n",
       "      <td>Im Not You</td>\n",
       "      <td>rap</td>\n",
       "      <td>spotify:track:4h1xaUGnbHp867AZ4mBM3m</td>\n",
       "    </tr>\n",
       "  </tbody>\n",
       "</table>\n",
       "</div>"
      ],
      "text/plain": [
       "               title  tag                                   uri\n",
       "0         Can I Live  rap  spotify:track:20U1I32q6kX0Nmy4u8CvUg\n",
       "1  Forgive Me Father  rap  spotify:track:1cvzmIBhdaQdC1DBbFnpWB\n",
       "2       Down and Out  rap  spotify:track:5mEwhCsqadBZIE7SSrv1gC\n",
       "3             Fly In  rap  spotify:track:6Nr3QjImPUhCpUgnykO7hm\n",
       "4         Im Not You  rap  spotify:track:4h1xaUGnbHp867AZ4mBM3m"
      ]
     },
     "execution_count": 107,
     "metadata": {},
     "output_type": "execute_result"
    }
   ],
   "source": [
    "music_meta2 = music_meta.copy()\n",
    "music_meta2.columns = [\"title\", 'tag', 'uri']\n",
    "music_meta2.head()"
   ]
  },
  {
   "cell_type": "code",
   "execution_count": 86,
   "id": "a752b96d",
   "metadata": {},
   "outputs": [],
   "source": [
    "books_ix.to_csv(\"book_data.csv\")"
   ]
  },
  {
   "cell_type": "code",
   "execution_count": 78,
   "id": "80d4b591",
   "metadata": {},
   "outputs": [],
   "source": [
    "def createRow(query_ix):\n",
    "    song_scores = (W[query_ix] @ H.T)\n",
    "    top_song_ix = np.argsort(song_scores.detach().numpy())[::-1][:1000]\n",
    "    \n",
    "    srt = np.sort(top_song_ix)+1\n",
    "    \n",
    "    music_df = music_meta.loc[srt]\n",
    "    \n",
    "    music_df.columns = [\"title\", 'tag', 'uri']\n",
    "    music_df['score'] = song_scores.detach().numpy()[np.sort(top_song_ix)]\n",
    "    \n",
    "    music_df = music_df.sort_values('score',ascending=False)\n",
    "    music_df = music_df[music_df.tag != 'misc']\n",
    "    \n",
    "    output = {}\n",
    "    \n",
    "    default_df = music_df[:15]\n",
    "    \n",
    "    output['name'] = books_ix.iloc[query_ix].item()\n",
    "    output['default'] = default_df['uri'].tolist()\n",
    "\n",
    "    for genre in music_df['tag'].value_counts().index.values:\n",
    "        playlist_df = music_df[music_df['tag'] == genre][:15]\n",
    "        if len(playlist_df) >= 15 and genre:\n",
    "            output[genre] = playlist_df['uri'].tolist()\n",
    "            \n",
    "    \n",
    "    return output"
   ]
  },
  {
   "cell_type": "code",
   "execution_count": 80,
   "id": "be5a3ce4",
   "metadata": {},
   "outputs": [],
   "source": [
    "def makeJson(startIdx, endIdx):\n",
    "    output = []\n",
    "    for i in range(startIdx, endIdx):\n",
    "        d = createRow(i)\n",
    "        output.append(d)\n",
    "\n",
    "    json_object = json.dumps(output, indent=4)\n",
    "\n",
    "    with open(f'data_{startIdx}.json', 'w', newline='') as outfile:\n",
    "        outfile.write(json_object)"
   ]
  },
  {
   "cell_type": "code",
   "execution_count": 81,
   "id": "6e9883c3",
   "metadata": {},
   "outputs": [],
   "source": [
    "makeJson(0, 3300)"
   ]
  },
  {
   "cell_type": "code",
   "execution_count": 82,
   "id": "ccd2e56d",
   "metadata": {},
   "outputs": [],
   "source": [
    "makeJson(3300, 6600)"
   ]
  },
  {
   "cell_type": "code",
   "execution_count": 83,
   "id": "8acc55ac",
   "metadata": {},
   "outputs": [],
   "source": [
    "makeJson(6600, 9900)"
   ]
  },
  {
   "cell_type": "code",
   "execution_count": 84,
   "id": "b0e164bf",
   "metadata": {},
   "outputs": [],
   "source": [
    "makeJson(9900, 13200)"
   ]
  },
  {
   "cell_type": "code",
   "execution_count": 85,
   "id": "c772b602",
   "metadata": {},
   "outputs": [],
   "source": [
    "makeJson(13200, 16277)"
   ]
  },
  {
   "cell_type": "code",
   "execution_count": null,
   "id": "a6d32eeb",
   "metadata": {},
   "outputs": [],
   "source": []
  }
 ],
 "metadata": {
  "kernelspec": {
   "display_name": "Python 3 (ipykernel)",
   "language": "python",
   "name": "python3"
  },
  "language_info": {
   "codemirror_mode": {
    "name": "ipython",
    "version": 3
   },
   "file_extension": ".py",
   "mimetype": "text/x-python",
   "name": "python",
   "nbconvert_exporter": "python",
   "pygments_lexer": "ipython3",
   "version": "3.9.12"
  }
 },
 "nbformat": 4,
 "nbformat_minor": 5
}
